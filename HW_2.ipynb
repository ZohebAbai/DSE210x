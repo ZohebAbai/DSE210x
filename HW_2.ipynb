{
 "cells": [
  {
   "cell_type": "markdown",
   "metadata": {
    "nbgrader": {
     "grade": false,
     "locked": true,
     "solution": false
    }
   },
   "source": [
    "<font size=\"4\" style=\"color:red;\"> **IMPORTANT: ** When submitting this homework notebook, please modify only the cells that start with:</font>\n",
    "\n",
    "```python\n",
    "# modify this cell\n",
    "```"
   ]
  },
  {
   "cell_type": "markdown",
   "metadata": {
    "nbgrader": {
     "grade": false,
     "locked": true,
     "solution": false
    }
   },
   "source": [
    "### Import Stuff\n",
    "\n",
    "Notice that we do not import *numpy* or *scipy* neither of these packages are need for this homework. For our solutions, the only command we needed to import was `itertools.product()`"
   ]
  },
  {
   "cell_type": "code",
   "execution_count": 1,
   "metadata": {
    "collapsed": true,
    "nbgrader": {
     "grade": false,
     "locked": true,
     "solution": false
    }
   },
   "outputs": [],
   "source": [
    "import itertools\n",
    "from itertools import product"
   ]
  },
  {
   "cell_type": "markdown",
   "metadata": {
    "nbgrader": {
     "grade": false,
     "locked": true,
     "solution": false
    }
   },
   "source": [
    "# Sets\n",
    "Read the notebook on sets before attempting these exercises"
   ]
  },
  {
   "cell_type": "markdown",
   "metadata": {
    "nbgrader": {
     "grade": false,
     "locked": true,
     "solution": false
    }
   },
   "source": [
    "# Problem 1"
   ]
  },
  {
   "cell_type": "markdown",
   "metadata": {
    "nbgrader": {
     "grade": false,
     "locked": true,
     "solution": false
    }
   },
   "source": [
    "De Morgan's first law states the following for any two sets $A$ and $B$\n",
    "$$(A\\cup B)^c = A^c\\cap B^c$$\n",
    "\n",
    "In the following two exercises we calculate $(A\\cup B)^c$ in two different ways. Both functions must take $A$, $B$ and the universal set $U$ as their inputs."
   ]
  },
  {
   "cell_type": "markdown",
   "metadata": {
    "nbgrader": {
     "grade": false,
     "locked": true,
     "solution": false
    }
   },
   "source": [
    "## Exercise 1.1"
   ]
  },
  {
   "cell_type": "markdown",
   "metadata": {
    "nbgrader": {
     "grade": false,
     "locked": true,
     "solution": false
    }
   },
   "source": [
    "\n",
    "Write the function **complement_of_union** that first determines $A\\cup B$ and then evaluates the complement of this set. Output the tuple: $\\begin{pmatrix}A\\cup B,\\, (A\\cup B)^c\\end{pmatrix}$.\n",
    "\n",
    "\n",
    "\n",
    "<font  style=\"color:blue\"> **Code**</font>\n",
    "```python\n",
    "A = {1, 2, 3}\n",
    "B = {3, -6, 2, 0}\n",
    "U = {-10, -9, -8, -7, -6, 0, 1, 2, 3, 4}\n",
    "complement_of_union(A, B, U)\n",
    "```\n",
    "\n",
    "<font  style=\"color:magenta\"> **Output**</font>\n",
    "```\n",
    "({-6, 0, 1, 2, 3}, {-10, -9, -8, -7, 4})\n",
    "```\n"
   ]
  },
  {
   "cell_type": "code",
   "execution_count": 2,
   "metadata": {
    "collapsed": true,
    "scrolled": true
   },
   "outputs": [],
   "source": [
    "# modify this cell\n",
    "\n",
    "def complement_of_union(A, B, U):\n",
    "    # inputs: A, B and U are of type 'set'\n",
    "    # output: a tuple of the type (set, set)\n",
    "    unionAB= A.union(B)\n",
    "    complimentAB= U.difference(unionAB)\n",
    "    return (unionAB, complimentAB)\n"
   ]
  },
  {
   "cell_type": "code",
   "execution_count": 3,
   "metadata": {
    "collapsed": true,
    "nbgrader": {
     "grade": true,
     "grade_id": "ex1",
     "locked": true,
     "points": "5",
     "solution": false
    }
   },
   "outputs": [
    {
     "name": "stdout",
     "output_type": "stream",
     "text": [
      "({3, 4, 5, -6, 13}, {-4, 12, -2})\n"
     ]
    }
   ],
   "source": [
    "# Check Function\n",
    "\n",
    "A = {-6, 3, 4, 5}\n",
    "B = {-6, 5, 13}\n",
    "U = A|B|{12,-2, -4}\n",
    "x=complement_of_union(A,B,U)\n",
    "print(x)\n",
    "#assert( complement_of_union(A, B, U) == ({0, 1, 2, 3, 4, 5, 7, 8, 9, 10, -6, -4, -3}, {-4, -3, 7, 10})  )\n",
    "\n",
    "#\n",
    "# AUTOGRADER TEST - DO NOT REMOVE\n",
    "#\n"
   ]
  },
  {
   "cell_type": "markdown",
   "metadata": {
    "nbgrader": {
     "grade": false,
     "locked": true,
     "solution": false
    }
   },
   "source": [
    "## Exercsise 1.2\n",
    "\n",
    "Write the function **intersection_of_complements** that first determines $A^c$ and $B^c$ and then evaluates the intersection of their complements. Output the tuple: $\\begin{pmatrix}A^c, \\,  A^c\\cap B^c\\end{pmatrix}$\n",
    "\n",
    "<font  style=\"color:blue\"> **Code**</font>\n",
    "```python\n",
    "A = {1, 2, 3}\n",
    "B = {3, -6, 2, 0}\n",
    "U = {-10, -9, -8, -7, -6, 0, 1, 2, 3, 4}\n",
    "intersection_of_complements(A, B, U)\n",
    "```\n",
    "\n",
    "<font  style=\"color:magenta\"> **Output**</font>\n",
    "```\n",
    "({-10, -9, -8, -7, -6, 0, 4}, {-10, -9, -8, -7, 4})\n",
    "```\n"
   ]
  },
  {
   "cell_type": "code",
   "execution_count": 4,
   "metadata": {
    "collapsed": true
   },
   "outputs": [],
   "source": [
    "# modify this cell\n",
    "\n",
    "def intersection_of_complements(A, B, U):\n",
    "    # inputs: A, B and U are of type 'set'\n",
    "    # output: a tuple of the form (set, set)\n",
    "    Ac= U-A\n",
    "    AcBc= Ac.intersection(U-B)\n",
    "    return(Ac,AcBc)\n"
   ]
  },
  {
   "cell_type": "code",
   "execution_count": 5,
   "metadata": {
    "collapsed": true,
    "nbgrader": {
     "grade": true,
     "grade_id": "ex2",
     "locked": true,
     "points": "5",
     "solution": false
    }
   },
   "outputs": [
    {
     "name": "stdout",
     "output_type": "stream",
     "text": [
      "({13, -4, 12, -2}, {-4, 12, -2})\n"
     ]
    }
   ],
   "source": [
    "# Check Function\n",
    "\n",
    "A = {-6, 3, 4, 5}\n",
    "B = {-6, 5, 13}\n",
    "U = A|B|{-2, 12, -4}\n",
    "#assert(  intersection_of_complements(A, B, U) == ({-6, -4, -3, 0, 7, 8, 9, 10}, {-4, -3, 7, 10})  )\n",
    "x= intersection_of_complements(A, B, U)\n",
    "print(x)\n",
    "#\n",
    "# AUTOGRADER TEST - DO NOT REMOVE\n",
    "#\n"
   ]
  },
  {
   "cell_type": "markdown",
   "metadata": {
    "nbgrader": {
     "grade": false,
     "locked": true,
     "solution": false
    }
   },
   "source": [
    "# Problem 2"
   ]
  },
  {
   "cell_type": "markdown",
   "metadata": {
    "nbgrader": {
     "grade": false,
     "locked": true,
     "solution": false
    }
   },
   "source": [
    "This problem illustrates a property of cartesian products of unions of two or more sets. For four sets $A$, $B$, $S$ and $T$, the following holds:\n",
    "\n",
    "$$(A\\cup B)\\times(S\\cup T) = (A\\times S)\\cup(A\\times T)\\cup(B\\times S)\\cup(B\\times T)$$\n",
    "\n",
    "Write the following functions to determine $(A\\cup B)\\times(S\\cup T)$ in two different ways.\n"
   ]
  },
  {
   "cell_type": "markdown",
   "metadata": {
    "nbgrader": {
     "grade": false,
     "locked": true,
     "solution": false
    }
   },
   "source": [
    "## Exercies 2.1\n",
    "\n",
    "Write function **product_of_unions** that first determines $(A\\cup B)$ and $(S\\cup T)$ and then evaluates the cartesian products of these unions. Output the tuple $\\begin{pmatrix}(A\\cup B),\\,  (A\\cup B)\\times(S\\cup T)\\end{pmatrix}$.\n",
    "\n",
    "<font  style=\"color:blue\"> **Code**</font>\n",
    "```python\n",
    "A = {1, 2}\n",
    "B = {1, 3}\n",
    "S = {-1, 0}\n",
    "T = {0, 10}\n",
    "product_of_unions(A, B, S, T)\n",
    "```\n",
    "\n",
    "\n",
    "<font  style=\"color:magenta\"> **Output**</font>\n",
    "```\n",
    "({1, 2, 3},\n",
    " {(1, -1),\n",
    "  (1, 0),\n",
    "  (1, 10),\n",
    "  (2, -1),\n",
    "  (2, 0),\n",
    "  (2, 10),\n",
    "  (3, -1),\n",
    "  (3, 0),\n",
    "  (3, 10)})\n",
    "```\n"
   ]
  },
  {
   "cell_type": "code",
   "execution_count": 6,
   "metadata": {
    "collapsed": true
   },
   "outputs": [],
   "source": [
    "# modify this cell\n",
    "\n",
    "def product_of_unions(A, B, S, T):\n",
    "    # inputs: A, B, S and T are sets\n",
    "    # output: a tuple of the type (set, set)\n",
    "    unionAB= A.union(B)\n",
    "    unionST= S.union(T)\n",
    "    x=set()\n",
    "    for pair in product(unionAB, unionST):\n",
    "        x.add(pair)\n",
    "    return(unionAB, x)\n",
    "\n"
   ]
  },
  {
   "cell_type": "code",
   "execution_count": 7,
   "metadata": {
    "collapsed": true,
    "nbgrader": {
     "grade": true,
     "grade_id": "ex3",
     "locked": true,
     "points": "5",
     "solution": false
    }
   },
   "outputs": [
    {
     "name": "stdout",
     "output_type": "stream",
     "text": [
      "({5}, {(5, -1), (5, 0)})\n"
     ]
    }
   ],
   "source": [
    "# Check Function\n",
    "\n",
    "A = {5}\n",
    "B = {5}\n",
    "S = {-1, 0}\n",
    "T = {0}\n",
    "#assert( product_of_unions(A, B, S, T) == ({5, 6}, {(5, -1), (5, 0), (5, 1), (5, 2), (6, -1), (6, 0), (6, 1), (6, 2)})   )\n",
    "y= product_of_unions(A, B, S, T)\n",
    "print(y)\n",
    "#\n",
    "# AUTOGRADER TEST - DO NOT REMOVE\n",
    "#\n"
   ]
  },
  {
   "cell_type": "markdown",
   "metadata": {
    "nbgrader": {
     "grade": false,
     "locked": true,
     "solution": false
    }
   },
   "source": [
    "## Exercise 2.2\n",
    "\n",
    "Write a function **union_of_products** that first determines $(A\\times S)$ and the other three cartesian products that appear on the right hand side of the identity above, then evaluates the union of these cartesian products. Output the tuple $\\begin{pmatrix}(A\\times S),\\,  (A\\times S)\\cup(A\\times T)\\cup(B\\times S)\\cup(B\\times T)\\end{pmatrix}$.\n",
    "\n",
    "<font  style=\"color:blue\"> **Code**</font>\n",
    "```python\n",
    "A = {1, 2}\n",
    "B = {1, 3}\n",
    "S = {-1, 0}\n",
    "T = {0, 10}\n",
    "union_of_products(A, B, S, T)\n",
    "```\n",
    "\n",
    "\n",
    "<font  style=\"color:magenta\"> **Output**</font>\n",
    "```\n",
    "({(1, -1), (1, 0), (2, -1), (2, 0)},\n",
    " {(1, -1),\n",
    "  (1, 0),\n",
    "  (1, 10),\n",
    "  (2, -1),\n",
    "  (2, 0),\n",
    "  (2, 10),\n",
    "  (3, -1),\n",
    "  (3, 0),\n",
    "  (3, 10)})\n",
    "```"
   ]
  },
  {
   "cell_type": "code",
   "execution_count": 8,
   "metadata": {
    "collapsed": true,
    "scrolled": true
   },
   "outputs": [],
   "source": [
    "# modify this cell\n",
    "\n",
    "def union_of_products(A, B, S, T):\n",
    "    # inputs: A, B, S and T are sets\n",
    "    # output: a tuple of the type (set, set)\n",
    "    productAS= set()\n",
    "    for pair in product(A,S):\n",
    "        productAS.add(pair)\n",
    "    productAT= set()\n",
    "    for pair in product(A,T):\n",
    "        productAT.add(pair)\n",
    "    productBS= set()\n",
    "    for pair in product(B,S):\n",
    "        productBS.add(pair)\n",
    "    productBT= set()\n",
    "    for pair in product(B,T):\n",
    "        productBT.add(pair)\n",
    "    unionfinal= productAS.union(productAT.union(productBS.union(productBT)))\n",
    "    return(productAS, unionfinal)\n"
   ]
  },
  {
   "cell_type": "code",
   "execution_count": 10,
   "metadata": {
    "collapsed": true,
    "nbgrader": {
     "grade": true,
     "grade_id": "ex4",
     "locked": true,
     "points": "5",
     "solution": false
    }
   },
   "outputs": [
    {
     "name": "stdout",
     "output_type": "stream",
     "text": [
      "({(5, -1), (5, 0)}, {(5, -1), (5, 0)})\n"
     ]
    }
   ],
   "source": [
    "# Check Function\n",
    "\n",
    "A = {5}\n",
    "B = {5}\n",
    "S = {-1, 0}\n",
    "T = {0}\n",
    "#assert( union_of_products(A, B, S, T) == \\\n",
    "#        ({(5, -1), (5, 0), (5, 1)}, \\\n",
    " #        {(5, -1), (5, 0), (5, 1), (5, 2), (6, -1), (6, 0), (6, 1), (6, 2)})  \\\n",
    "  #    )\n",
    "z= union_of_products(A, B, S, T)\n",
    "print(z)\n",
    "#\n",
    "# AUTOGRADER TEST - DO NOT REMOVE\n",
    "#\n"
   ]
  },
  {
   "cell_type": "code",
   "execution_count": null,
   "metadata": {},
   "outputs": [],
   "source": []
  }
 ],
 "metadata": {
  "kernelspec": {
   "display_name": "Python 3",
   "language": "python",
   "name": "python3"
  },
  "language_info": {
   "codemirror_mode": {
    "name": "ipython",
    "version": 3
   },
   "file_extension": ".py",
   "mimetype": "text/x-python",
   "name": "python",
   "nbconvert_exporter": "python",
   "pygments_lexer": "ipython3",
   "version": "3.6.5"
  },
  "toc": {
   "nav_menu": {
    "height": "48px",
    "width": "252px"
   },
   "number_sections": true,
   "sideBar": true,
   "skip_h1_title": false,
   "toc_cell": false,
   "toc_position": [],
   "toc_section_display": "block",
   "toc_window_display": false
  }
 },
 "nbformat": 4,
 "nbformat_minor": 2
}
